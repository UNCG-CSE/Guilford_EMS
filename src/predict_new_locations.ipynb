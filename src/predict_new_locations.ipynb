{
 "cells": [
  {
   "cell_type": "code",
   "execution_count": 11,
   "metadata": {},
   "outputs": [],
   "source": [
    "import pandas as pd\n",
    "import numpy as np\n",
    "import matplotlib\n",
    "import matplotlib.pyplot as plt\n",
    "import math\n",
    "from random import randint \n",
    "from sklearn.cluster import KMeans\n",
    "from sklearn import model_selection\n",
    "from sklearn import model_selection\n",
    "from sklearn import metrics"
   ]
  },
  {
   "cell_type": "markdown",
   "metadata": {},
   "source": [
    "Let's try to predict locations for new hospitals, animal shelters, fire dept."
   ]
  },
  {
   "cell_type": "markdown",
   "metadata": {},
   "source": [
    "# Load data\n",
    "Clean it and save the cleaned version."
   ]
  },
  {
   "cell_type": "code",
   "execution_count": 5,
   "metadata": {},
   "outputs": [
    {
     "name": "stderr",
     "output_type": "stream",
     "text": [
      "/home/oana/anaconda3/lib/python3.6/site-packages/IPython/core/interactiveshell.py:2785: DtypeWarning: Columns (11) have mixed types. Specify dtype option on import or set low_memory=False.\n",
      "  interactivity=interactivity, compiler=compiler, result=result)\n"
     ]
    }
   ],
   "source": [
    "calls = pd.read_csv('../data/geoloc_data/app_public_safety/callsForServiceUpdated.csv')\n",
    "calls = calls[calls.rptonly != True]\n",
    "calls = calls[calls.cancelled != True]\n",
    "calls = calls[calls.nature != 'TRANSPORT TO ANIMAL SHELTER']\n",
    "calls['calltime'] = pd.to_datetime(calls.calltime)\n",
    "calls['year'] = calls.calltime.apply(lambda x: x.date().year)\n",
    "calls['month'] = calls.calltime.apply(lambda x: x.date().month)\n",
    "calls['dayOfMonth'] = calls.calltime.apply(lambda x: x.date().day)\n",
    "calls['hour'] = calls.calltime.apply(lambda x: x.time().hour)\n",
    "calls = calls.rename(columns={'calldow' : 'dayOfWeek'})\n",
    "calls = calls.drop(columns = ['timeclose', 'calltime'], axis = 1)\n",
    "calls = calls.drop(columns = ['statbeat','ra'])\n",
    "calls['actualnature'] = [x['nature2'] if x['nature'] is np.nan and x['nature']!=x['nature2']\n",
    "                        else x['nature'] for i,x in calls.iterrows()]\n",
    "calls = calls.drop(columns = ['nature','nature2'])\n",
    "calls = calls.rename(columns={'actualnature' : 'nature'})\n",
    "\n",
    "calls.to_csv('../data/geoloc_data/app_public_safety/cleaned_callsForServiceUpdated.csv', \n",
    "             sep='\\t', index=False)"
   ]
  },
  {
   "cell_type": "markdown",
   "metadata": {},
   "source": [
    "Let's split the data into 4 data sets based on the 4 agencies.\n",
    "We will predict locations for 2 versions of the data: the raw one and the filtered one that keepds only highest priority calls."
   ]
  },
  {
   "cell_type": "code",
   "execution_count": 23,
   "metadata": {},
   "outputs": [
    {
     "name": "stderr",
     "output_type": "stream",
     "text": [
      "/home/oana/anaconda3/lib/python3.6/site-packages/IPython/core/interactiveshell.py:2785: DtypeWarning: Columns (19) have mixed types. Specify dtype option on import or set low_memory=False.\n",
      "  interactivity=interactivity, compiler=compiler, result=result)\n",
      "/home/oana/anaconda3/lib/python3.6/site-packages/pandas/core/frame.py:3694: SettingWithCopyWarning: \n",
      "A value is trying to be set on a copy of a slice from a DataFrame\n",
      "\n",
      "See the caveats in the documentation: http://pandas.pydata.org/pandas-docs/stable/indexing.html#indexing-view-versus-copy\n",
      "  errors=errors)\n"
     ]
    }
   ],
   "source": [
    "filtered_calls = pd.read_csv('../data/geoloc_data/app_public_safety/cleaned_callsForServiceUpdated.csv',\n",
    "                             sep='\\t')\n",
    "geoloc = pd.DataFrame()\n",
    "geoloc['long'] = filtered_calls['long']\n",
    "geoloc['lat'] = filtered_calls['lat']\n",
    "geoloc['agency'] = filtered_calls['agency']\n",
    "ems_calls = geoloc[geoloc.agency == 'EMS']\n",
    "ems_calls.drop(columns='agency', inplace=True)\n",
    "aco_calls = geoloc[geoloc.agency == 'ACO']\n",
    "aco_calls.drop(columns='agency', inplace=True)\n",
    "gcsd_calls = geoloc[geoloc.agency == 'GCSD']\n",
    "gcsd_calls.drop(columns='agency', inplace=True)\n",
    "gcf_calls = geoloc[geoloc.agency == 'GCF']\n",
    "gcf_calls.drop(columns='agency', inplace=True)\n",
    "\n",
    "calls_highestP = filtered_calls[filtered_calls.priority == 'P']\n",
    "geoloc_highestP = pd.DataFrame()\n",
    "geoloc_highestP['long'] = calls_highestP['long']\n",
    "geoloc_highestP['lat'] = calls_highestP['lat']\n",
    "geoloc_highestP['agency'] = calls_highestP['agency']\n",
    "ems_calls_highestP = geoloc_highestP[geoloc_highestP.agency == 'EMS']\n",
    "ems_calls_highestP.drop(columns='agency', inplace=True)\n",
    "aco_calls_highestP = geoloc_highestP[geoloc_highestP.agency == 'ACO']\n",
    "aco_calls_highestP.drop(columns='agency', inplace=True)\n",
    "gcsd_calls_highestP = geoloc_highestP[geoloc_highestP.agency == 'GCSD']\n",
    "gcsd_calls_highestP.drop(columns='agency', inplace=True)\n",
    "gcf_calls_highestP = geoloc_highestP[geoloc_highestP.agency == 'GCF']\n",
    "gcf_calls_highestP.drop(columns='agency', inplace=True)"
   ]
  },
  {
   "cell_type": "markdown",
   "metadata": {},
   "source": [
    "## Predict new locations for hospitals, fire dept, animal shelters\n",
    "Let's try to predict latitute and longitude for next buildings based on the latitude and long of current phone calls."
   ]
  },
  {
   "cell_type": "code",
   "execution_count": 25,
   "metadata": {},
   "outputs": [
    {
     "name": "stdout",
     "output_type": "stream",
     "text": [
      "[[-79.85061129  36.05415722]]\n",
      "[[-79.84560087  36.05486576]]\n"
     ]
    }
   ],
   "source": [
    "model = KMeans(n_clusters=1, random_state=123, n_jobs=-1)\n",
    "model.fit(ems_calls)\n",
    "print(model.cluster_centers_)\n",
    "model.fit(ems_calls_highestP)\n",
    "print(model.cluster_centers_)"
   ]
  },
  {
   "cell_type": "code",
   "execution_count": 26,
   "metadata": {},
   "outputs": [
    {
     "name": "stdout",
     "output_type": "stream",
     "text": [
      "[[-79.79462101  36.07537658]]\n",
      "[[-79.80616015  36.07589802]]\n"
     ]
    }
   ],
   "source": [
    "model = KMeans(n_clusters=1, random_state=123, n_jobs=-1)\n",
    "model.fit(aco_calls)\n",
    "print(model.cluster_centers_)\n",
    "model.fit(aco_calls_highestP)\n",
    "print(model.cluster_centers_)"
   ]
  },
  {
   "cell_type": "code",
   "execution_count": 27,
   "metadata": {},
   "outputs": [
    {
     "name": "stdout",
     "output_type": "stream",
     "text": [
      "[[-79.79368187  36.07173895]]\n",
      "[[-79.78873048  36.0725713 ]]\n"
     ]
    }
   ],
   "source": [
    "model = KMeans(n_clusters=1, random_state=123, n_jobs=-1)\n",
    "model.fit(gcf_calls)\n",
    "print(model.cluster_centers_)\n",
    "model.fit(gcf_calls_highestP)\n",
    "print(model.cluster_centers_)"
   ]
  },
  {
   "cell_type": "code",
   "execution_count": 28,
   "metadata": {},
   "outputs": [
    {
     "name": "stdout",
     "output_type": "stream",
     "text": [
      "[[-79.81209641  36.06432225]]\n",
      "[[-79.80634588  36.06781992]]\n"
     ]
    }
   ],
   "source": [
    "model = KMeans(n_clusters=1, random_state=123, n_jobs=-1)\n",
    "model.fit(gcsd_calls)\n",
    "print(model.cluster_centers_)\n",
    "model.fit(gcsd_calls_highestP)\n",
    "print(model.cluster_centers_)"
   ]
  }
 ],
 "metadata": {
  "celltoolbar": "Raw Cell Format",
  "kernelspec": {
   "display_name": "Python 3",
   "language": "python",
   "name": "python3"
  },
  "language_info": {
   "codemirror_mode": {
    "name": "ipython",
    "version": 3
   },
   "file_extension": ".py",
   "mimetype": "text/x-python",
   "name": "python",
   "nbconvert_exporter": "python",
   "pygments_lexer": "ipython3",
   "version": "3.6.5"
  }
 },
 "nbformat": 4,
 "nbformat_minor": 2
}
