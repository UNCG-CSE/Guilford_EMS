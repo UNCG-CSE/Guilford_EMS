{
 "cells": [
  {
   "cell_type": "markdown",
   "metadata": {},
   "source": [
    "Let's clean up the data so that later on would be a lot easier to work with it and the operations would make more sense."
   ]
  },
  {
   "cell_type": "code",
   "execution_count": 1,
   "metadata": {},
   "outputs": [],
   "source": [
    "import pandas as pd\n",
    "import numpy as np"
   ]
  },
  {
   "cell_type": "markdown",
   "metadata": {},
   "source": [
    "# Load data"
   ]
  },
  {
   "cell_type": "code",
   "execution_count": 2,
   "metadata": {},
   "outputs": [
    {
     "name": "stderr",
     "output_type": "stream",
     "text": [
      "C:\\Users\\saadm\\Anaconda2\\lib\\site-packages\\IPython\\core\\interactiveshell.py:2714: DtypeWarning: Columns (4) have mixed types. Specify dtype option on import or set low_memory=False.\n",
      "  interactivity=interactivity, compiler=compiler, result=result)\n"
     ]
    },
    {
     "name": "stdout",
     "output_type": "stream",
     "text": [
      "1105884\n"
     ]
    }
   ],
   "source": [
    "calls = pd.read_csv('../data/callsforservicefiltered.csv', header=0, low_memory=True, \n",
    "                    memory_map=True)\n",
    "print(len(calls))"
   ]
  },
  {
   "cell_type": "markdown",
   "metadata": {},
   "source": [
    "## 1. Filter out rows where cancelled calls field = True, report only field = True\n",
    "Eliminate calls that were either cancelled or their type was report only (someone called to report)."
   ]
  },
  {
   "cell_type": "code",
   "execution_count": 3,
   "metadata": {},
   "outputs": [
    {
     "name": "stdout",
     "output_type": "stream",
     "text": [
      "1085198\n"
     ]
    }
   ],
   "source": [
    "calls = calls[calls.rptonly != True]\n",
    "calls = calls[calls.cancelled != True]\n",
    "print(len(calls))"
   ]
  },
  {
   "cell_type": "markdown",
   "metadata": {},
   "source": [
    "## 2. Filter out rows where nature = Transport to Animal Shelter\n",
    "This has to be done in order to avoid later redundancy.<br>\n",
    "This type of calls are received also from Guilford's county outside population AND the location is assigned arbitrary.<br>\n",
    "These calls CAN be used as a sign of volume, but they don't bring any meaning to the story."
   ]
  },
  {
   "cell_type": "code",
   "execution_count": 4,
   "metadata": {},
   "outputs": [
    {
     "name": "stdout",
     "output_type": "stream",
     "text": [
      "1067326\n"
     ]
    }
   ],
   "source": [
    "calls = calls[calls.nature != 'TRANSPORT TO ANIMAL SHELTER']\n",
    "print(len(calls))"
   ]
  },
  {
   "cell_type": "markdown",
   "metadata": {},
   "source": [
    "## 3. Split calltime into more than one field.\n",
    "Split the calltime field to <b>year</b>, <b>month</b>, <b>dayOfMonth</b>, and <b>hour</b>.<br>\n",
    "In order to do that, we need to convert it to a datetime format that is easier to deal with using pandas.to_datetime.<br>\n",
    "After finishing we are dropping it and the timeclose field. (As we have the duration of the call in another field).\n",
    "Also, we are renaming the calldow field to become dayOfWeek."
   ]
  },
  {
   "cell_type": "code",
   "execution_count": null,
   "metadata": {},
   "outputs": [],
   "source": [
    "calls['calltime'] = pd.to_datetime(calls.calltime)\n",
    "calls['year'] = calls.calltime.apply(lambda x: x.date().year)\n",
    "calls['month'] = calls.calltime.apply(lambda x: x.date().month)\n",
    "calls['dayOfMonth'] = calls.calltime.apply(lambda x: x.date().day)\n",
    "calls['hour'] = calls.calltime.apply(lambda x: x.time().hour)\n",
    "calls = calls.rename(columns={'calldow' : 'dayOfWeek'})\n",
    "calls = calls.drop(columns = ['timeclose', 'calltime'], axis = 1)\n",
    "calls"
   ]
  },
  {
   "cell_type": "markdown",
   "metadata": {},
   "source": [
    "## 4. Drop unnecessary Columns\n",
    "Remove unnecessary fields related to location as: statbeat, ra. To do this we use the pandas function to just drop a column. So the column statbeat and ra was dropped.\n"
   ]
  },
  {
   "cell_type": "code",
   "execution_count": null,
   "metadata": {},
   "outputs": [],
   "source": [
    "calls = calls.drop(columns = ['statbeat','ra'])\n",
    "calls"
   ]
  }
 ],
 "metadata": {
  "kernelspec": {
   "display_name": "Python 2",
   "language": "python",
   "name": "python2"
  },
  "language_info": {
   "codemirror_mode": {
    "name": "ipython",
    "version": 2
   },
   "file_extension": ".py",
   "mimetype": "text/x-python",
   "name": "python",
   "nbconvert_exporter": "python",
   "pygments_lexer": "ipython2",
   "version": "2.7.15"
  }
 },
 "nbformat": 4,
 "nbformat_minor": 2
}
