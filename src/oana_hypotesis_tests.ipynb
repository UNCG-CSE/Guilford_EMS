{
 "cells": [
  {
   "cell_type": "markdown",
   "metadata": {},
   "source": [
    "Let's discover relations between natures and each agency."
   ]
  },
  {
   "cell_type": "code",
   "execution_count": 6,
   "metadata": {},
   "outputs": [],
   "source": [
    "import pandas as pd\n",
    "import numpy as np\n",
    "import matplotlib\n",
    "import matplotlib.pyplot as plts\n",
    "import scipy\n",
    "from scipy import stats\n",
    "import math"
   ]
  },
  {
   "cell_type": "markdown",
   "metadata": {},
   "source": [
    "# Load data"
   ]
  },
  {
   "cell_type": "code",
   "execution_count": 2,
   "metadata": {},
   "outputs": [
    {
     "name": "stderr",
     "output_type": "stream",
     "text": [
      "/home/oana/anaconda3/lib/python3.6/site-packages/IPython/core/interactiveshell.py:2785: DtypeWarning: Columns (4) have mixed types. Specify dtype option on import or set low_memory=False.\n",
      "  interactivity=interactivity, compiler=compiler, result=result)\n"
     ]
    }
   ],
   "source": [
    "calls = pd.read_csv('../data/callsforservicefiltered.csv')\n",
    "ems_calls = pd.DataFrame()\n",
    "gcf_calls = pd.DataFrame()\n",
    "gcsd_calls = pd.DataFrame()\n",
    "aco_calls = pd.DataFrame()"
   ]
  },
  {
   "cell_type": "markdown",
   "metadata": {},
   "source": [
    "Let's clean it up."
   ]
  },
  {
   "cell_type": "code",
   "execution_count": 3,
   "metadata": {},
   "outputs": [],
   "source": [
    "calls = calls[calls.rptonly != True]\n",
    "calls = calls[calls.cancelled != True]\n",
    "calls = calls[calls.nature != 'TRANSPORT TO ANIMAL SHELTER']\n",
    "calls['calltime'] = pd.to_datetime(calls.calltime)\n",
    "calls['year'] = calls.calltime.apply(lambda x: x.date().year)\n",
    "calls['month'] = calls.calltime.apply(lambda x: x.date().month)\n",
    "calls['dayOfMonth'] = calls.calltime.apply(lambda x: x.date().day)\n",
    "calls['hour'] = calls.calltime.apply(lambda x: x.time().hour)\n",
    "calls = calls.rename(columns={'calldow' : 'dayOfWeek'})\n",
    "calls = calls.drop(columns = ['timeclose', 'calltime'], axis = 1)\n",
    "calls = calls.drop(columns = ['statbeat','ra'])\n",
    "calls['actualnature'] = [x['nature2'] if x['nature'] is np.nan and x['nature']!=x['nature2']\n",
    "                        else x['nature'] for i,x in calls.iterrows()]\n",
    "calls = calls.drop(columns = ['nature','nature2'])\n",
    "calls = calls.rename(columns={'actualnature' : 'nature'})"
   ]
  },
  {
   "cell_type": "markdown",
   "metadata": {},
   "source": [
    "Let's split the data into 4 data sets based on the 4 agencies."
   ]
  },
  {
   "cell_type": "code",
   "execution_count": 4,
   "metadata": {},
   "outputs": [],
   "source": [
    "ems_calls = calls[calls.agency == 'EMS']\n",
    "aco_calls = calls[calls.agency == 'ACO']\n",
    "gcsd_calls = calls[calls.agency == 'GCSD']\n",
    "gcf_calls = calls[calls.agency == 'GCF']"
   ]
  },
  {
   "cell_type": "code",
   "execution_count": 5,
   "metadata": {},
   "outputs": [
    {
     "name": "stdout",
     "output_type": "stream",
     "text": [
      "  callsource city priority  rptonly service agency district    gp primeunit  \\\n",
      "0       SELF    G        1    False     LAW   GCSD      SD3  SD34      S335   \n",
      "1       E911    G        4    False     EMS    EMS       B6   627      M261   \n",
      "3       E911    W        1    False     EMS    EMS       B5   513        M2   \n",
      "4       E911    W        P    False    FIRE    GCF     ALAM   44C       E44   \n",
      "5       E911    G        3    False     EMS    EMS      B4B   406      M241   \n",
      "\n",
      "   cancelled               ...               secsar2tr  secsar2lc  secsrt2dsp  \\\n",
      "0      False               ...                       0        651           0   \n",
      "1      False               ...                    1881       2454          43   \n",
      "3      False               ...                    1457       4522          30   \n",
      "4      False               ...                       0        900           8   \n",
      "5      False               ...                       0          0          10   \n",
      "\n",
      "   secstr2lc  firstdisp  year  month  dayOfMonth  hour  \\\n",
      "0          0       S335  2012      7           1     0   \n",
      "1        965       M261  2012      7           1     0   \n",
      "3       3918         M2  2012      7           1     0   \n",
      "4          0        E44  2012      7           1     0   \n",
      "5          0       M241  2012      7           1     0   \n",
      "\n",
      "                           nature  \n",
      "0                    TRAFFIC STOP  \n",
      "1        HEMORRHAGE / LACERATIONS  \n",
      "3            SEIZURES-CONVULSIONS  \n",
      "4            SEIZURES-CONVULSIONS  \n",
      "5  FALLS-BACK INJURIES(TRAUMATIC)  \n",
      "\n",
      "[5 rows x 30 columns]\n"
     ]
    }
   ],
   "source": [
    "print(calls.head())"
   ]
  },
  {
   "cell_type": "markdown",
   "metadata": {},
   "source": [
    "## 1. Hours at which phone calls were received for ACO are the same as the ones for phone calls received for EMS."
   ]
  },
  {
   "cell_type": "code",
   "execution_count": 20,
   "metadata": {},
   "outputs": [
    {
     "name": "stdout",
     "output_type": "stream",
     "text": [
      "statistical value is -27.869819\n",
      "p value is 0.0000000000000000000000000000000000000000000000000000000000000000000000000000000000000000000000000000000000000000000000000000000000000000000000000000000000000000000000000082835806920733239304536137509627587495778428816705958044106510491728856670813545744981221981126734681237531067774543853085584309164215889261183504336332480314568011535261193619823354521184517974258685632248847632261780689596834555\n"
     ]
    }
   ],
   "source": [
    "stat_value, p_value = scipy.stats.ttest_ind(gcsd_calls.hour, gcf_calls.hour)\n",
    "print('statistical value is %10.6f' %stat_value)\n",
    "print('p value is %1.400f' %p_value)"
   ]
  },
  {
   "cell_type": "markdown",
   "metadata": {},
   "source": [
    "## 2. Time needed for nature identification for calls received for ACO are the same as the ones for calls received for EMS."
   ]
  },
  {
   "cell_type": "code",
   "execution_count": 33,
   "metadata": {},
   "outputs": [
    {
     "name": "stdout",
     "output_type": "stream",
     "text": [
      "statistical value is -50.955215\n",
      "p value is 0.0000000000000000000000000000000000000000000000000000000000000000000000000000000000000000000000000000000000000000000000000000000000000000000000000000000000000000000000000000000000000000000000000000000000000000000000000000000000000000000000000000000000000000000000000000000000000000000000000000000000000000000000000000000000000000000000000000000000000000000000000000000000000000000000000000000000000000\n"
     ]
    }
   ],
   "source": [
    "stat_value, p_value = scipy.stats.ttest_ind(gcsd_calls.secsdi2ar, gcf_calls.secsdi2ar)\n",
    "print('statistical value is %10.6f' %stat_value)\n",
    "print('p value is %130.400f' %p_value)"
   ]
  },
  {
   "cell_type": "code",
   "execution_count": null,
   "metadata": {},
   "outputs": [],
   "source": []
  }
 ],
 "metadata": {
  "celltoolbar": "Raw Cell Format",
  "kernelspec": {
   "display_name": "Python 3",
   "language": "python",
   "name": "python3"
  },
  "language_info": {
   "codemirror_mode": {
    "name": "ipython",
    "version": 3
   },
   "file_extension": ".py",
   "mimetype": "text/x-python",
   "name": "python",
   "nbconvert_exporter": "python",
   "pygments_lexer": "ipython3",
   "version": "3.6.5"
  }
 },
 "nbformat": 4,
 "nbformat_minor": 2
}
