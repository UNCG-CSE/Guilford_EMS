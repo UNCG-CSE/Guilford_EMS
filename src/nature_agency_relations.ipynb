{
 "cells": [
  {
   "cell_type": "markdown",
   "metadata": {},
   "source": [
    "Let's discover relations between natures and each agency."
   ]
  },
  {
   "cell_type": "code",
   "execution_count": 1,
   "metadata": {},
   "outputs": [],
   "source": [
    "import pandas as pd\n",
    "import numpy as np\n",
    "import matplotlib\n",
    "import matplotlib.pyplot as plt\n",
    "import math"
   ]
  },
  {
   "cell_type": "markdown",
   "metadata": {},
   "source": [
    "# Load data"
   ]
  },
  {
   "cell_type": "code",
   "execution_count": 2,
   "metadata": {},
   "outputs": [
    {
     "name": "stderr",
     "output_type": "stream",
     "text": [
      "/home/oana/anaconda3/lib/python3.6/site-packages/IPython/core/interactiveshell.py:2785: DtypeWarning: Columns (4) have mixed types. Specify dtype option on import or set low_memory=False.\n",
      "  interactivity=interactivity, compiler=compiler, result=result)\n"
     ]
    }
   ],
   "source": [
    "calls = pd.read_csv('../data/callsforservicefiltered.csv')\n",
    "ems_calls = pd.DataFrame()\n",
    "gcf_calls = pd.DataFrame()\n",
    "gcsd_calls = pd.DataFrame()\n",
    "aco_calls = pd.DataFrame()"
   ]
  },
  {
   "cell_type": "markdown",
   "metadata": {},
   "source": [
    "Let's clean it up."
   ]
  },
  {
   "cell_type": "code",
   "execution_count": null,
   "metadata": {},
   "outputs": [],
   "source": [
    "calls = calls[calls.rptonly != True]\n",
    "calls = calls[calls.cancelled != True]\n",
    "calls = calls[calls.nature != 'TRANSPORT TO ANIMAL SHELTER']\n",
    "calls['calltime'] = pd.to_datetime(calls.calltime)\n",
    "calls['year'] = calls.calltime.apply(lambda x: x.date().year)\n",
    "calls['month'] = calls.calltime.apply(lambda x: x.date().month)\n",
    "calls['dayOfMonth'] = calls.calltime.apply(lambda x: x.date().day)\n",
    "calls['hour'] = calls.calltime.apply(lambda x: x.time().hour)\n",
    "calls = calls.rename(columns={'calldow' : 'dayOfWeek'})\n",
    "calls = calls.drop(columns = ['timeclose', 'calltime'], axis = 1)\n",
    "calls = calls.drop(columns = ['statbeat','ra'])\n",
    "calls['actualnature'] = [x['nature2'] if x['nature'] is np.nan and x['nature']!=x['nature2']\n",
    "                        else x['nature'] for i,x in calls.iterrows()]\n",
    "calls = calls.drop(columns = ['nature','nature2'])\n",
    "calls = calls.rename(columns={'actualnature' : 'nature'})"
   ]
  },
  {
   "cell_type": "markdown",
   "metadata": {},
   "source": [
    "Let's split the data into 4 data sets based on the 4 agencies."
   ]
  },
  {
   "cell_type": "code",
   "execution_count": null,
   "metadata": {},
   "outputs": [],
   "source": [
    "ems_calls = calls[calls.agency == 'EMS']\n",
    "aco_calls = calls[calls.agency == 'ACO']\n",
    "gcsd_calls = calls[calls.agency == 'GCSD']\n",
    "gcf_calls = calls[calls.agency == 'GCF']"
   ]
  },
  {
   "cell_type": "markdown",
   "metadata": {},
   "source": [
    "## 1. First 5 leading natures for calls per agency\n",
    "Let's see what are the top reasons per agency most people call about."
   ]
  },
  {
   "cell_type": "markdown",
   "metadata": {},
   "source": [
    "Let's group all tuples into groups based on the same call nature"
   ]
  },
  {
   "cell_type": "code",
   "execution_count": null,
   "metadata": {},
   "outputs": [],
   "source": [
    "# warning: inPlace parameter has a bug! Do not use it in sort_values(), as the object returned is Null\n",
    "aco_groupby_nature = aco_calls.groupby(['nature']).size().reset_index(name='count')\n",
    "aco_groupby_nature = aco_groupby_nature.sort_values(by='count', ascending=False)\n",
    "ems_groupby_nature = ems_calls.groupby(['nature']).size().reset_index(name='count')\n",
    "ems_groupby_nature = ems_groupby_nature.sort_values(by='count', ascending=False)\n",
    "gcf_groupby_nature = gcf_calls.groupby(['nature']).size().reset_index(name='count')\n",
    "gcf_groupby_nature = gcf_groupby_nature.sort_values(by='count', ascending=False)\n",
    "gcsd_groupby_nature = gcsd_calls.groupby(['nature']).size().reset_index(name='count')\n",
    "gcsd_groupby_nature = gcsd_groupby_nature.sort_values(by='count', ascending=False)"
   ]
  },
  {
   "cell_type": "markdown",
   "metadata": {},
   "source": [
    "Print the top 5 calls' nature in each call category and see which is the biggest."
   ]
  },
  {
   "cell_type": "code",
   "execution_count": null,
   "metadata": {},
   "outputs": [],
   "source": [
    "def create_plot(ylabel, title, xlabels, xsizes):\n",
    "    \n",
    "    y_pos = np.arange(len(xlabels))    \n",
    "    plt.bar(y_pos, xsizes, align='center', alpha=1)\n",
    "    plt.xticks(y_pos, xlabels, rotation='vertical')\n",
    "    plt.ylabel(ylabel)\n",
    "    plt.title(title)\n",
    "    plt.show()"
   ]
  },
  {
   "cell_type": "code",
   "execution_count": null,
   "metadata": {},
   "outputs": [],
   "source": [
    "font = {'family':'normal',\n",
    "#         'weight':'bold',\n",
    "       'size':5}\n",
    "# matplotlib.rc('font', **font)\n",
    "print('ACO top 5 reasons for calls')\n",
    "print(aco_groupby_nature.head())\n",
    "aco_top_natures = aco_groupby_nature.head(10)['nature']\n",
    "no_calls_aco = aco_groupby_nature.head(10)['count']\n",
    "create_plot('Number of calls', 'ACO top reasons for calls', \n",
    "            aco_top_natures, no_calls_aco)\n",
    "\n",
    "print('\\nEMS top 5 reasons for calls')\n",
    "print(ems_groupby_nature.head())\n",
    "ems_top_natures = ems_groupby_nature.head(10)['nature']\n",
    "no_calls_ems = ems_groupby_nature.head(10)['count']\n",
    "create_plot('Number of calls', 'EMS top reasons for calls', \n",
    "            ems_top_natures, no_calls_ems)\n",
    "\n",
    "print('\\nGCF top 5 reasons for calls')\n",
    "print(gcf_groupby_nature.head())\n",
    "gcf_top_natures = gcf_groupby_nature.head(10)['nature']\n",
    "no_calls_gcf = gcf_groupby_nature.head(10)['count']\n",
    "create_plot('Number of calls', 'GCF top reasons for calls', \n",
    "            gcf_top_natures, no_calls_gcf)\n",
    "\n",
    "print('\\nGCSD top 5 reasons for calls')\n",
    "print(gcsd_groupby_nature.head())\n",
    "gcsd_top_natures = gcsd_groupby_nature.head(10)['nature']\n",
    "no_calls_gcsd = gcsd_groupby_nature.head(10)['count']\n",
    "create_plot('Number of calls', 'GCSD top reasons for calls', \n",
    "            gcsd_top_natures, no_calls_gcsd)"
   ]
  },
  {
   "cell_type": "markdown",
   "metadata": {},
   "source": [
    "## 2. Natures with the biggest variance in calls\n",
    "Let's see which natures have the biggest variance in calls - aka which one are trending.\n",
    "We will do the computation if the nature is present for at least 3 years, to avoid biased results.\n",
    "Also we will remove calls that were made in 2018 or 2012, as the data for those years is incomplete and we will obtain biased results."
   ]
  },
  {
   "cell_type": "code",
   "execution_count": null,
   "metadata": {},
   "outputs": [],
   "source": [
    "def find_call_variance(data):\n",
    "\n",
    "    agency = data['agency'][0] \n",
    "    data_filtered = data[data.year != 2018]\n",
    "    data_filtered = data_filtered[data_filtered.year != 2012]    \n",
    "    data_calls_variance = pd.DataFrame(columns=['agency', 'nature', 'variance'])          \n",
    "    data_with_counts = data_filtered.groupby(['nature', 'year']).size().reset_index(name='count')\n",
    "    data_with_counts = data_with_counts.sort_values(by='year', ascending=True)\n",
    "    grouped_data = data_with_counts.groupby(['nature'])\n",
    "    natures = []\n",
    "    variance_calls = []    \n",
    "    for group in grouped_data: \n",
    "        calls_group = group[1]\n",
    "        mean = calls_group['count'].mean()         \n",
    "        if (mean>50) and (calls_group.tail(1).year == 2017).bool() and calls_group.shape[0] > 2:                        \n",
    "            calls_2017 = calls_group['count'].tail(1)\n",
    "            variance_call = (int)(calls_2017-mean)/mean\n",
    "            natures.append(group[0])\n",
    "            variance_calls.append(variance_call)        \n",
    "            \n",
    "    data_calls_variance['nature'] = natures\n",
    "    data_calls_variance['variance'] = variance_calls\n",
    "    return data_calls_variance"
   ]
  },
  {
   "cell_type": "markdown",
   "metadata": {},
   "source": [
    "First group the data by nature and year and obtain the no of calls for each group.\n",
    "Then, for each call nature, see how the last year's calls varies according to the mean of all the calls from all the years for that nature.\n",
    "Then sort the data and print the first 3 biggest differences.\n",
    "Notes:\n",
    "3. Compute values for natures with at least x calls"
   ]
  },
  {
   "cell_type": "code",
   "execution_count": null,
   "metadata": {},
   "outputs": [],
   "source": [
    "aco_calls.reset_index(drop=True, inplace=True)\n",
    "aco_variance = find_call_variance(aco_calls)\n",
    "aco_variance.sort_values(by='variance', ascending=False, inplace=True)\n",
    "aco_variance['agency'] = 'ACO'\n",
    "print('ACO variance')\n",
    "print(aco_variance.head(3))\n",
    "aco_trending_natures = aco_variance.head(10)['nature']\n",
    "aco_variance = aco_variance.head(10)['variance']\n",
    "create_plot('Variance', 'ACO top trending natures', \n",
    "            aco_trending_natures, aco_variance)\n",
    "\n",
    "ems_calls.reset_index(drop=True, inplace=True)\n",
    "ems_variance = find_call_variance(ems_calls)\n",
    "ems_variance.sort_values(by='variance', ascending=False, inplace=True)\n",
    "ems_variance['agency'] = 'EMS'\n",
    "print('EMS variance')\n",
    "print(ems_variance.head(3))\n",
    "ems_trending_natures = ems_variance.head(10)['nature']\n",
    "ems_variance = ems_variance.head(10)['variance']\n",
    "create_plot('Variance', 'EMS top trending natures', \n",
    "            ems_trending_natures, ems_variance)\n",
    "\n",
    "gcsd_calls.reset_index(drop=True, inplace=True)\n",
    "gcsd_variance = find_call_variance(gcsd_calls)\n",
    "gcsd_variance.sort_values(by='variance', ascending=False, inplace=True)\n",
    "gcsd_variance['agency'] = 'GCSD'\n",
    "print('GCSD variance')\n",
    "print(gcsd_variance.head(3))\n",
    "gcsd_trending_natures = gcsd_variance.head(10)['nature']\n",
    "gcsd_variance = gcsd_variance.head(10)['variance']\n",
    "create_plot('Variance', 'GCSD top trending natures', \n",
    "            gcsd_trending_natures, gcsd_variance)\n",
    "\n",
    "gcf_calls.reset_index(drop=True, inplace=True)\n",
    "gcf_variance = find_call_variance(gcf_calls)\n",
    "gcf_variance.sort_values(by='variance', ascending=False, inplace=True)\n",
    "gcf_variance['agency'] = 'GCF'\n",
    "print('GCF variance')\n",
    "print(gcf_variance.head(3))\n",
    "gcf_trending_natures = gcf_variance.head(10)['nature']\n",
    "gcf_variance = gcf_variance.head(10)['variance']\n",
    "create_plot('Variance', 'GCF top trending natures', \n",
    "            gcf_trending_natures, gcf_variance)\n",
    "#if you want to keep hierarchical indexing, to retrieve data by chunks:\n",
    "#result = pd.concat(frames, keys=['x', 'y', 'z'])"
   ]
  }
 ],
 "metadata": {
  "kernelspec": {
   "display_name": "Python 3",
   "language": "python",
   "name": "python3"
  },
  "language_info": {
   "codemirror_mode": {
    "name": "ipython",
    "version": 3
   },
   "file_extension": ".py",
   "mimetype": "text/x-python",
   "name": "python",
   "nbconvert_exporter": "python",
   "pygments_lexer": "ipython3",
   "version": "3.6.5"
  }
 },
 "nbformat": 4,
 "nbformat_minor": 2
}
