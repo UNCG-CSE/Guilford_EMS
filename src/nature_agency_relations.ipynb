{
 "cells": [
  {
   "cell_type": "markdown",
   "metadata": {},
   "source": [
    "Let's discover relations between natures and each agency."
   ]
  },
  {
   "cell_type": "code",
   "execution_count": 3,
   "metadata": {},
   "outputs": [],
   "source": [
    "import pandas as pd\n",
    "import numpy as np\n",
    "import matplotlib\n",
    "import matplotlib.pyplot as plt\n",
    "import math"
   ]
  },
  {
   "cell_type": "markdown",
   "metadata": {},
   "source": [
    "# Load data"
   ]
  },
  {
   "cell_type": "code",
   "execution_count": 4,
   "metadata": {},
   "outputs": [
    {
     "name": "stderr",
     "output_type": "stream",
     "text": [
      "/home/oana/anaconda3/lib/python3.6/site-packages/IPython/core/interactiveshell.py:2785: DtypeWarning: Columns (4) have mixed types. Specify dtype option on import or set low_memory=False.\n",
      "  interactivity=interactivity, compiler=compiler, result=result)\n"
     ]
    }
   ],
   "source": [
    "calls = pd.read_csv('../data/callsforservicefiltered.csv')\n",
    "ems_calls = pd.DataFrame()\n",
    "gcf_calls = pd.DataFrame()\n",
    "gcsd_calls = pd.DataFrame()\n",
    "aco_calls = pd.DataFrame()"
   ]
  },
  {
   "cell_type": "markdown",
   "metadata": {},
   "source": [
    "Let's clean it up."
   ]
  },
  {
   "cell_type": "code",
   "execution_count": null,
   "metadata": {},
   "outputs": [],
   "source": [
    "calls = calls[calls.rptonly != True]\n",
    "calls = calls[calls.cancelled != True]\n",
    "calls = calls[calls.nature != 'TRANSPORT TO ANIMAL SHELTER']\n",
    "calls['calltime'] = pd.to_datetime(calls.calltime)\n",
    "calls['year'] = calls.calltime.apply(lambda x: x.date().year)\n",
    "calls['month'] = calls.calltime.apply(lambda x: x.date().month)\n",
    "calls['dayOfMonth'] = calls.calltime.apply(lambda x: x.date().day)\n",
    "calls['hour'] = calls.calltime.apply(lambda x: x.time().hour)\n",
    "calls = calls.rename(columns={'calldow' : 'dayOfWeek'})\n",
    "calls = calls.drop(columns = ['timeclose', 'calltime'], axis = 1)\n",
    "calls = calls.drop(columns = ['statbeat','ra'])\n",
    "calls['actualnature'] = [x['nature2'] if x['nature'] is np.nan and x['nature']!=x['nature2']\n",
    "                        else x['nature'] for i,x in calls.iterrows()]\n",
    "calls = calls.drop(columns = ['nature','nature2'])\n",
    "calls = calls.rename(columns={'actualnature' : 'nature'})"
   ]
  },
  {
   "cell_type": "markdown",
   "metadata": {},
   "source": [
    "Let's split the data into 4 data sets based on the 4 agencies."
   ]
  },
  {
   "cell_type": "code",
   "execution_count": null,
   "metadata": {},
   "outputs": [],
   "source": [
    "ems_calls = calls[calls.agency == 'EMS']\n",
    "aco_calls = calls[calls.agency == 'ACO']\n",
    "gcsd_calls = calls[calls.agency == 'GCSD']\n",
    "gcf_calls = calls[calls.agency == 'GCF']"
   ]
  },
  {
   "cell_type": "markdown",
   "metadata": {},
   "source": [
    "## 1. First 5 leading natures for calls per agency\n",
    "Let's see what are the top reasons per agency most people call about."
   ]
  },
  {
   "cell_type": "markdown",
   "metadata": {},
   "source": [
    "Let's group all tuples into groups based on the same call nature"
   ]
  },
  {
   "cell_type": "code",
   "execution_count": null,
   "metadata": {},
   "outputs": [],
   "source": [
    "# warning: inPlace parameter has a bug! Do not use it in sort_values(), as the object returned is Null\n",
    "aco_groupby_nature = aco_calls.groupby(['nature']).size().reset_index(name='count')\n",
    "aco_groupby_nature = aco_groupby_nature.sort_values(by='count', ascending=False)\n",
    "ems_groupby_nature = ems_calls.groupby(['nature']).size().reset_index(name='count')\n",
    "ems_groupby_nature = ems_groupby_nature.sort_values(by='count', ascending=False)\n",
    "gcf_groupby_nature = gcf_calls.groupby(['nature']).size().reset_index(name='count')\n",
    "gcf_groupby_nature = gcf_groupby_nature.sort_values(by='count', ascending=False)\n",
    "gcsd_groupby_nature = gcsd_calls.groupby(['nature']).size().reset_index(name='count')\n",
    "gcsd_groupby_nature = gcsd_groupby_nature.sort_values(by='count', ascending=False)"
   ]
  },
  {
   "cell_type": "markdown",
   "metadata": {},
   "source": [
    "Print the top 5 calls' nature in each call category and see which is the biggest."
   ]
  },
  {
   "cell_type": "code",
   "execution_count": null,
   "metadata": {},
   "outputs": [],
   "source": [
    "def create_plot(ylabel, title, xlabels, xsizes):\n",
    "    \n",
    "    y_pos = np.arange(len(xlabels))    \n",
    "    plt.bar(y_pos, xsizes, align='center', alpha=1)\n",
    "    plt.xticks(y_pos, xlabels, rotation='vertical')\n",
    "    plt.ylabel(ylabel)\n",
    "    plt.title(title)\n",
    "    plt.show()"
   ]
  },
  {
   "cell_type": "code",
   "execution_count": null,
   "metadata": {},
   "outputs": [],
   "source": [
    "font = {'family':'normal',\n",
    "#         'weight':'bold',\n",
    "       'size':5}\n",
    "# matplotlib.rc('font', **font)\n",
    "print('ACO top 5 reasons for calls')\n",
    "print(aco_groupby_nature.head())\n",
    "aco_top_natures = aco_groupby_nature.head(10)['nature']\n",
    "no_calls_aco = aco_groupby_nature.head(10)['count']\n",
    "create_plot('Number of calls', 'ACO top reasons for calls', \n",
    "            aco_top_natures, no_calls_aco)\n",
    "\n",
    "print('\\nEMS top 5 reasons for calls')\n",
    "print(ems_groupby_nature.head())\n",
    "ems_top_natures = ems_groupby_nature.head(10)['nature']\n",
    "no_calls_ems = ems_groupby_nature.head(10)['count']\n",
    "create_plot('Number of calls', 'EMS top reasons for calls', \n",
    "            ems_top_natures, no_calls_ems)\n",
    "\n",
    "print('\\nGCF top 5 reasons for calls')\n",
    "print(gcf_groupby_nature.head())\n",
    "gcf_top_natures = gcf_groupby_nature.head(10)['nature']\n",
    "no_calls_gcf = gcf_groupby_nature.head(10)['count']\n",
    "create_plot('Number of calls', 'GCF top reasons for calls', \n",
    "            gcf_top_natures, no_calls_gcf)\n",
    "\n",
    "print('\\nGCSD top 5 reasons for calls')\n",
    "print(gcsd_groupby_nature.head())\n",
    "gcsd_top_natures = gcsd_groupby_nature.head(10)['nature']\n",
    "no_calls_gcsd = gcsd_groupby_nature.head(10)['count']\n",
    "create_plot('Number of calls', 'GCSD top reasons for calls', \n",
    "            gcsd_top_natures, no_calls_gcsd)"
   ]
  }
 ],
 "metadata": {
  "kernelspec": {
   "display_name": "Python 3",
   "language": "python",
   "name": "python3"
  },
  "language_info": {
   "codemirror_mode": {
    "name": "ipython",
    "version": 3
   },
   "file_extension": ".py",
   "mimetype": "text/x-python",
   "name": "python",
   "nbconvert_exporter": "python",
   "pygments_lexer": "ipython3",
   "version": "3.6.5"
  }
 },
 "nbformat": 4,
 "nbformat_minor": 2
}
