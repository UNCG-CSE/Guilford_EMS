{
 "cells": [
  {
   "cell_type": "code",
   "execution_count": 21,
   "metadata": {},
   "outputs": [],
   "source": [
    "# Daniel Wingo\n",
    "\n",
    "# Load libraries\n",
    "import pandas as pd\n",
    "from pandas.plotting import scatter_matrix\n",
    "import numpy as np\n",
    "from matplotlib import pyplot as plt\n",
    "import seaborn as sns\n",
    "\n",
    "class SklearnHelper(object):\n",
    "    def __init__(self, clf, seed=0, params=None):\n",
    "        params['random_state'] = seed\n",
    "        self.clf = clf(**params)\n",
    "\n",
    "    def train(self, x_train, y_train):\n",
    "        self.clf.fit(x_train, y_train)\n",
    "\n",
    "    def predict(self, x):\n",
    "        return self.clf.predict(x)\n",
    "    \n",
    "    def fit(self,x,y):\n",
    "        return self.clf.fit(x,y)\n",
    "    \n",
    "    def feature_importances(self,x,y):\n",
    "        print(self.clf.fit(x,y).feature_importances_)"
   ]
  },
  {
   "cell_type": "code",
   "execution_count": 22,
   "metadata": {},
   "outputs": [],
   "source": [
    "# read in the CSV's\n",
    "EMS = pd.read_csv(r'../EMS/data/callsforservicefiltered2018.csv')"
   ]
  },
  {
   "cell_type": "code",
   "execution_count": 23,
   "metadata": {},
   "outputs": [
    {
     "data": {
      "text/plain": [
       "calltime           0\n",
       "callsource         0\n",
       "city             180\n",
       "nature             2\n",
       "nature2       108188\n",
       "priority          42\n",
       "rptonly            0\n",
       "service            2\n",
       "agency             0\n",
       "district       11110\n",
       "statbeat       11109\n",
       "ra             11113\n",
       "gp             11520\n",
       "primeunit      12355\n",
       "cancelled          0\n",
       "closecode          0\n",
       "timeclose          0\n",
       "calldow            0\n",
       "secs2rt            0\n",
       "secs2di            0\n",
       "secs2en            0\n",
       "secs2ar            0\n",
       "secs2tr            0\n",
       "secs2lc            0\n",
       "secsdi2en          0\n",
       "secsdi2ar          0\n",
       "secsar2tr          0\n",
       "secsar2lc          0\n",
       "secsrt2dsp         0\n",
       "secstr2lc          0\n",
       "firstdisp      13091\n",
       "dtype: int64"
      ]
     },
     "execution_count": 23,
     "metadata": {},
     "output_type": "execute_result"
    }
   ],
   "source": [
    "# find null values \"missing values\"\n",
    "EMS.isnull().sum()"
   ]
  },
  {
   "cell_type": "code",
   "execution_count": 24,
   "metadata": {},
   "outputs": [
    {
     "name": "stdout",
     "output_type": "stream",
     "text": [
      "(124252, 31)\n"
     ]
    }
   ],
   "source": [
    "#check dimensions of the file\n",
    "print(EMS.shape)"
   ]
  },
  {
   "cell_type": "code",
   "execution_count": 25,
   "metadata": {},
   "outputs": [
    {
     "data": {
      "text/html": [
       "<div>\n",
       "<style scoped>\n",
       "    .dataframe tbody tr th:only-of-type {\n",
       "        vertical-align: middle;\n",
       "    }\n",
       "\n",
       "    .dataframe tbody tr th {\n",
       "        vertical-align: top;\n",
       "    }\n",
       "\n",
       "    .dataframe thead th {\n",
       "        text-align: right;\n",
       "    }\n",
       "</style>\n",
       "<table border=\"1\" class=\"dataframe\">\n",
       "  <thead>\n",
       "    <tr style=\"text-align: right;\">\n",
       "      <th></th>\n",
       "      <th>calldow</th>\n",
       "      <th>secs2rt</th>\n",
       "      <th>secs2di</th>\n",
       "      <th>secs2en</th>\n",
       "      <th>secs2ar</th>\n",
       "      <th>secs2tr</th>\n",
       "      <th>secs2lc</th>\n",
       "      <th>secsdi2en</th>\n",
       "      <th>secsdi2ar</th>\n",
       "      <th>secsar2tr</th>\n",
       "      <th>secsar2lc</th>\n",
       "      <th>secsrt2dsp</th>\n",
       "      <th>secstr2lc</th>\n",
       "    </tr>\n",
       "  </thead>\n",
       "  <tbody>\n",
       "    <tr>\n",
       "      <th>count</th>\n",
       "      <td>124252.000000</td>\n",
       "      <td>124252.000000</td>\n",
       "      <td>1.242520e+05</td>\n",
       "      <td>1.242520e+05</td>\n",
       "      <td>1.242520e+05</td>\n",
       "      <td>124252.000000</td>\n",
       "      <td>1.242520e+05</td>\n",
       "      <td>124252.000000</td>\n",
       "      <td>124252.000000</td>\n",
       "      <td>124252.000000</td>\n",
       "      <td>1.242520e+05</td>\n",
       "      <td>1.242520e+05</td>\n",
       "      <td>1.242520e+05</td>\n",
       "    </tr>\n",
       "    <tr>\n",
       "      <th>mean</th>\n",
       "      <td>4.076313</td>\n",
       "      <td>41.152666</td>\n",
       "      <td>3.805311e+03</td>\n",
       "      <td>3.827892e+03</td>\n",
       "      <td>4.005648e+03</td>\n",
       "      <td>626.579637</td>\n",
       "      <td>6.238722e+03</td>\n",
       "      <td>24.423518</td>\n",
       "      <td>390.542156</td>\n",
       "      <td>491.985344</td>\n",
       "      <td>2.025514e+03</td>\n",
       "      <td>3.764431e+03</td>\n",
       "      <td>7.241183e+02</td>\n",
       "    </tr>\n",
       "    <tr>\n",
       "      <th>std</th>\n",
       "      <td>1.926030</td>\n",
       "      <td>142.379225</td>\n",
       "      <td>6.401513e+04</td>\n",
       "      <td>6.401385e+04</td>\n",
       "      <td>6.207472e+04</td>\n",
       "      <td>1596.717496</td>\n",
       "      <td>6.425184e+04</td>\n",
       "      <td>82.111119</td>\n",
       "      <td>994.951612</td>\n",
       "      <td>970.639852</td>\n",
       "      <td>6.956322e+03</td>\n",
       "      <td>6.400863e+04</td>\n",
       "      <td>4.027293e+03</td>\n",
       "    </tr>\n",
       "    <tr>\n",
       "      <th>min</th>\n",
       "      <td>1.000000</td>\n",
       "      <td>0.000000</td>\n",
       "      <td>0.000000e+00</td>\n",
       "      <td>0.000000e+00</td>\n",
       "      <td>0.000000e+00</td>\n",
       "      <td>0.000000</td>\n",
       "      <td>0.000000e+00</td>\n",
       "      <td>0.000000</td>\n",
       "      <td>0.000000</td>\n",
       "      <td>0.000000</td>\n",
       "      <td>0.000000e+00</td>\n",
       "      <td>0.000000e+00</td>\n",
       "      <td>0.000000e+00</td>\n",
       "    </tr>\n",
       "    <tr>\n",
       "      <th>25%</th>\n",
       "      <td>2.000000</td>\n",
       "      <td>0.000000</td>\n",
       "      <td>0.000000e+00</td>\n",
       "      <td>0.000000e+00</td>\n",
       "      <td>0.000000e+00</td>\n",
       "      <td>0.000000</td>\n",
       "      <td>6.050000e+02</td>\n",
       "      <td>0.000000</td>\n",
       "      <td>0.000000</td>\n",
       "      <td>0.000000</td>\n",
       "      <td>2.780000e+02</td>\n",
       "      <td>0.000000e+00</td>\n",
       "      <td>0.000000e+00</td>\n",
       "    </tr>\n",
       "    <tr>\n",
       "      <th>50%</th>\n",
       "      <td>4.000000</td>\n",
       "      <td>13.000000</td>\n",
       "      <td>3.800000e+01</td>\n",
       "      <td>7.300000e+01</td>\n",
       "      <td>3.760000e+02</td>\n",
       "      <td>0.000000</td>\n",
       "      <td>1.856000e+03</td>\n",
       "      <td>13.000000</td>\n",
       "      <td>302.000000</td>\n",
       "      <td>0.000000</td>\n",
       "      <td>1.086000e+03</td>\n",
       "      <td>1.500000e+01</td>\n",
       "      <td>0.000000e+00</td>\n",
       "    </tr>\n",
       "    <tr>\n",
       "      <th>75%</th>\n",
       "      <td>6.000000</td>\n",
       "      <td>47.000000</td>\n",
       "      <td>9.400000e+01</td>\n",
       "      <td>1.310000e+02</td>\n",
       "      <td>6.820000e+02</td>\n",
       "      <td>1091.000000</td>\n",
       "      <td>3.807000e+03</td>\n",
       "      <td>31.000000</td>\n",
       "      <td>560.000000</td>\n",
       "      <td>925.000000</td>\n",
       "      <td>2.988000e+03</td>\n",
       "      <td>4.200000e+01</td>\n",
       "      <td>1.459000e+03</td>\n",
       "    </tr>\n",
       "    <tr>\n",
       "      <th>max</th>\n",
       "      <td>7.000000</td>\n",
       "      <td>12710.000000</td>\n",
       "      <td>2.851675e+06</td>\n",
       "      <td>2.851675e+06</td>\n",
       "      <td>2.838796e+06</td>\n",
       "      <td>95418.000000</td>\n",
       "      <td>2.851815e+06</td>\n",
       "      <td>6818.000000</td>\n",
       "      <td>159774.000000</td>\n",
       "      <td>71822.000000</td>\n",
       "      <td>1.310609e+06</td>\n",
       "      <td>2.849956e+06</td>\n",
       "      <td>1.309689e+06</td>\n",
       "    </tr>\n",
       "  </tbody>\n",
       "</table>\n",
       "</div>"
      ],
      "text/plain": [
       "             calldow        secs2rt       secs2di       secs2en       secs2ar  \\\n",
       "count  124252.000000  124252.000000  1.242520e+05  1.242520e+05  1.242520e+05   \n",
       "mean        4.076313      41.152666  3.805311e+03  3.827892e+03  4.005648e+03   \n",
       "std         1.926030     142.379225  6.401513e+04  6.401385e+04  6.207472e+04   \n",
       "min         1.000000       0.000000  0.000000e+00  0.000000e+00  0.000000e+00   \n",
       "25%         2.000000       0.000000  0.000000e+00  0.000000e+00  0.000000e+00   \n",
       "50%         4.000000      13.000000  3.800000e+01  7.300000e+01  3.760000e+02   \n",
       "75%         6.000000      47.000000  9.400000e+01  1.310000e+02  6.820000e+02   \n",
       "max         7.000000   12710.000000  2.851675e+06  2.851675e+06  2.838796e+06   \n",
       "\n",
       "             secs2tr       secs2lc      secsdi2en      secsdi2ar  \\\n",
       "count  124252.000000  1.242520e+05  124252.000000  124252.000000   \n",
       "mean      626.579637  6.238722e+03      24.423518     390.542156   \n",
       "std      1596.717496  6.425184e+04      82.111119     994.951612   \n",
       "min         0.000000  0.000000e+00       0.000000       0.000000   \n",
       "25%         0.000000  6.050000e+02       0.000000       0.000000   \n",
       "50%         0.000000  1.856000e+03      13.000000     302.000000   \n",
       "75%      1091.000000  3.807000e+03      31.000000     560.000000   \n",
       "max     95418.000000  2.851815e+06    6818.000000  159774.000000   \n",
       "\n",
       "           secsar2tr     secsar2lc    secsrt2dsp     secstr2lc  \n",
       "count  124252.000000  1.242520e+05  1.242520e+05  1.242520e+05  \n",
       "mean      491.985344  2.025514e+03  3.764431e+03  7.241183e+02  \n",
       "std       970.639852  6.956322e+03  6.400863e+04  4.027293e+03  \n",
       "min         0.000000  0.000000e+00  0.000000e+00  0.000000e+00  \n",
       "25%         0.000000  2.780000e+02  0.000000e+00  0.000000e+00  \n",
       "50%         0.000000  1.086000e+03  1.500000e+01  0.000000e+00  \n",
       "75%       925.000000  2.988000e+03  4.200000e+01  1.459000e+03  \n",
       "max     71822.000000  1.310609e+06  2.849956e+06  1.309689e+06  "
      ]
     },
     "execution_count": 25,
     "metadata": {},
     "output_type": "execute_result"
    }
   ],
   "source": [
    "EMS.describe()"
   ]
  },
  {
   "cell_type": "code",
   "execution_count": 26,
   "metadata": {},
   "outputs": [
    {
     "name": "stdout",
     "output_type": "stream",
     "text": [
      "callsource\n",
      "ALARM     1343\n",
      "E911     42742\n",
      "M11          1\n",
      "M20          1\n",
      "M261         1\n",
      "MA32         1\n",
      "PHONE    25315\n",
      "RADIO      135\n",
      "RPTO        67\n",
      "SELF     32444\n",
      "STATE       17\n",
      "TEXT         4\n",
      "W911     18942\n",
      "XFER      3239\n",
      "dtype: int64\n"
     ]
    }
   ],
   "source": [
    "# starting to look into the data and see what we have\n",
    "#look at the All sources \n",
    "print(EMS.groupby('callsource').size())\n",
    "\n"
   ]
  },
  {
   "cell_type": "code",
   "execution_count": 27,
   "metadata": {},
   "outputs": [
    {
     "name": "stdout",
     "output_type": "stream",
     "text": [
      "nature\n",
      "911 UNKNOWN                        886\n",
      "ABDOMINAL PAIN / PROBLEMS         1065\n",
      "ACCIDENT HIT & RUN W/PI-REPORT       1\n",
      "ACCIDENT HIT AND RUN PERS INJ       26\n",
      "ACCIDENT HIT AND RUN PROP DAM      152\n",
      "ACCIDENT MCI LEVEL 1                 2\n",
      "ACCIDENT PI W/ WATER                 1\n",
      "ACCIDENT PI W/TRACTOR TRAILER        3\n",
      "ACCIDENT W/ INJURY PIN IN           88\n",
      "ACCIDENT W/INJURY-GPD REPORT         5\n",
      "ACCIDENT WITH FIRE                   2\n",
      "ACCIDENT WITH PERSONAL INJURY     4275\n",
      "ACCIDENT WITH PROPERTY DAMAGE     1383\n",
      "AIR ALERT 1 LARGE AIRCRAFT           5\n",
      "AIR ALERT 1 SMALL AIRCRAFT           7\n",
      "AIR ALERT 2 LARGE AIRCRAFT           4\n",
      "AIR ALERT 2 SMALL AIRCRAFT           3\n",
      "AIR ALERT 3 SMALL AIRCRAFT           2\n",
      "AIRCRAFT EMERGENCY                   2\n",
      "ALARMS                             618\n",
      "ALLERGIES-HIVES-STINGS             479\n",
      "ANIMAL BITES / ATTACKS              75\n",
      "ANIMAL RELATED CALL                509\n",
      "ARMED SUBJECT                       59\n",
      "ARSON INVESTIGATION                  1\n",
      "ASSAULT (NO EMS NEEDED)            308\n",
      "ASSAULT / RAPE                     568\n",
      "ATV                                  4\n",
      "AUTO THEFT                          97\n",
      "BACK PAIN (NON-TRAUMATIC)          495\n",
      "                                  ... \n",
      "ZCONFINED                          715\n",
      "ZCRUELTY                            24\n",
      "ZCRUELTY FOLLOW UP                  11\n",
      "ZDANGEROUS / VICIOUS CALL           25\n",
      "ZDOG LOCKED IN VEHICLE              83\n",
      "ZEXPOSURE                           49\n",
      "ZFOLLOW UP                         852\n",
      "ZHOME RABIES SHOTS                  97\n",
      "ZINJURED ANIMAL                    499\n",
      "ZMISTREATMENT                        7\n",
      "ZMISTREATMENT FOLLOW UP              2\n",
      "ZOTHER ANIMAL IN RESIDENCE         125\n",
      "ZOWNER TRAP                        238\n",
      "ZPICK UP TRAP                       33\n",
      "ZPUBLIC NUISANCE                   225\n",
      "ZPUBLIC NUISANCE FOLLOW UP          35\n",
      "ZRETURN TO OWNER                    72\n",
      "ZRUNNING AT LARGE                 1392\n",
      "ZSERVING PAPERS                     19\n",
      "ZSET A TRAP                         75\n",
      "ZSICK ANIMAL                       181\n",
      "ZSURRENDER ANIMAL                  149\n",
      "ZTETHERING CALL                    156\n",
      "ZTETHERING FOLLOW UP                93\n",
      "ZTRANSPORT FROM VET                  5\n",
      "ZTRANSPORT TO VET                   65\n",
      "ZTRAP                               83\n",
      "ZVICIOUS ANIMAL                    257\n",
      "ZVICIOUS DOG INVESTIGATION           4\n",
      "ZWELFARE CHECK FOLLOW UP           628\n",
      "Length: 239, dtype: int64\n"
     ]
    }
   ],
   "source": [
    "# looking at the nature of the calls\n",
    "print(EMS.groupby('nature').size())"
   ]
  },
  {
   "cell_type": "code",
   "execution_count": 28,
   "metadata": {},
   "outputs": [
    {
     "name": "stdout",
     "output_type": "stream",
     "text": [
      "service\n",
      "EMS     51142\n",
      "FIRE     9484\n",
      "LAW     53121\n",
      "OTHR    10503\n",
      "dtype: int64\n"
     ]
    }
   ],
   "source": [
    "#Looking at which Services the people requested\n",
    "print(EMS.groupby('service').size())"
   ]
  },
  {
   "cell_type": "code",
   "execution_count": 29,
   "metadata": {},
   "outputs": [
    {
     "name": "stdout",
     "output_type": "stream",
     "text": [
      "district\n",
      "ALAM      624\n",
      "ALCO      174\n",
      "APD        87\n",
      "APPD      148\n",
      "B1       8381\n",
      "B2       9953\n",
      "B3A      7052\n",
      "B3B      2290\n",
      "B4A      3295\n",
      "B4B      5984\n",
      "B5       2100\n",
      "B59      2340\n",
      "B6       9339\n",
      "BFD         6\n",
      "BPD       100\n",
      "CLFX      240\n",
      "CLMX      113\n",
      "DRFD        3\n",
      "ELON        3\n",
      "FD13      658\n",
      "FD14       10\n",
      "FD28       78\n",
      "FORS       25\n",
      "GBVL      595\n",
      "GFD1      202\n",
      "GFD2       75\n",
      "GFD3      359\n",
      "GFD4       33\n",
      "GFD5       27\n",
      "GIPD       63\n",
      "GLRD      223\n",
      "GPD1     4556\n",
      "GPD2     3421\n",
      "GPD3     2394\n",
      "GPD4     2060\n",
      "HPFD       63\n",
      "HPPD     2975\n",
      "HTFD        7\n",
      "JULN       69\n",
      "KFD        13\n",
      "KMVL       48\n",
      "KPD        12\n",
      "MCVL      686\n",
      "MTHP      256\n",
      "NEFD      513\n",
      "OKRD      440\n",
      "PCSF     1579\n",
      "PLGD      557\n",
      "PTIA       41\n",
      "RAND       77\n",
      "ROCK       42\n",
      "SD1      9856\n",
      "SD2     13862\n",
      "SD3     13433\n",
      "SEFD      117\n",
      "SMFD      697\n",
      "STKD      419\n",
      "WHTS      369\n",
      "dtype: int64\n"
     ]
    }
   ],
   "source": [
    "# looing at the disricts in which the call was made\n",
    "print(EMS.groupby('district').size())"
   ]
  },
  {
   "cell_type": "code",
   "execution_count": 30,
   "metadata": {},
   "outputs": [
    {
     "name": "stdout",
     "output_type": "stream",
     "text": [
      "cancelled\n",
      "False    111272\n",
      "True      12980\n",
      "dtype: int64\n"
     ]
    }
   ],
   "source": [
    "# looking what calls were cancelled \n",
    "print(EMS.groupby('cancelled').size())"
   ]
  },
  {
   "cell_type": "code",
   "execution_count": 31,
   "metadata": {},
   "outputs": [
    {
     "data": {
      "text/plain": [
       "priority\n",
       "1    34546\n",
       "2    28168\n",
       "3    10696\n",
       "4    15066\n",
       "5     4934\n",
       "6        6\n",
       "7    10846\n",
       "8     5347\n",
       "9     8894\n",
       "P     5707\n",
       "dtype: int64"
      ]
     },
     "execution_count": 31,
     "metadata": {},
     "output_type": "execute_result"
    }
   ],
   "source": [
    "\n",
    "priority =EMS.groupby('priority').size()\n",
    "priority"
   ]
  },
  {
   "cell_type": "markdown",
   "metadata": {},
   "source": [
    "# Data Anayltics Priorities!\n",
    "## Goals:\n",
    "### 1.)Check the spread of the Priorities\n",
    "### 2.)Observe patterns or relationships basic statistics\n",
    "####  Check Relationships between priority and nature\n",
    "####  Check Relationships of priority changing from year to year\n",
    "   "
   ]
  },
  {
   "cell_type": "code",
   "execution_count": 37,
   "metadata": {},
   "outputs": [
    {
     "data": {
      "text/plain": [
       "(124252, 31)"
      ]
     },
     "execution_count": 37,
     "metadata": {},
     "output_type": "execute_result"
    }
   ],
   "source": [
    "EMS.shape"
   ]
  },
  {
   "cell_type": "code",
   "execution_count": 38,
   "metadata": {},
   "outputs": [
    {
     "data": {
      "text/plain": [
       "Index(['calltime', 'callsource', 'city', 'nature', 'nature2', 'priority',\n",
       "       'rptonly', 'service', 'agency', 'district', 'statbeat', 'ra', 'gp',\n",
       "       'primeunit', 'cancelled', 'closecode', 'timeclose', 'calldow',\n",
       "       'secs2rt', 'secs2di', 'secs2en', 'secs2ar', 'secs2tr', 'secs2lc',\n",
       "       'secsdi2en', 'secsdi2ar', 'secsar2tr', 'secsar2lc', 'secsrt2dsp',\n",
       "       'secstr2lc', 'firstdisp'],\n",
       "      dtype='object')"
      ]
     },
     "execution_count": 38,
     "metadata": {},
     "output_type": "execute_result"
    }
   ],
   "source": [
    "EMS.columns"
   ]
  },
  {
   "cell_type": "code",
   "execution_count": null,
   "metadata": {},
   "outputs": [],
   "source": [
    "\n",
    "\n",
    "# Too many columns, too much clutter,cut down columns to just the ones I want to observe\n",
    "# Columns Needed:\n",
    "# Priority, district, secs2ar, year, callsource, calltime, service, agency\n",
    "# check correlation on the selected columns\n",
    "# think about a model that would automate the priority system based on nature of call of past calls\n",
    "\n",
    "#"
   ]
  },
  {
   "cell_type": "code",
   "execution_count": 32,
   "metadata": {},
   "outputs": [
    {
     "data": {
      "text/plain": [
       "<matplotlib.axes._subplots.AxesSubplot at 0x20611e271d0>"
      ]
     },
     "execution_count": 32,
     "metadata": {},
     "output_type": "execute_result"
    },
    {
     "data": {
      "image/png": "[encoded data removed]",
      "text/plain": [
       "<Figure size 432x288 with 1 Axes>"
      ]
     },
     "metadata": {},
     "output_type": "display_data"
    }
   ],
   "source": [
    "#Check the Distribution of the Priorities\n",
    "#What we know about the Priorities\n",
    "#As number increase the severity of the nature also increase and P is the highest Priority\n",
    "priority.plot.bar()"
   ]
  },
  {
   "cell_type": "markdown",
   "metadata": {},
   "source": [
    "### We can see that the majority of the priorities are Priority 1"
   ]
  },
  {
   "cell_type": "code",
   "execution_count": null,
   "metadata": {},
   "outputs": [],
   "source": []
  },
  {
   "cell_type": "code",
   "execution_count": 35,
   "metadata": {},
   "outputs": [
    {
     "data": {
      "text/plain": [
       "priority  nature                       \n",
       "1         911 UNKNOWN                       886\n",
       "          ABDOMINAL PAIN / PROBLEMS          82\n",
       "          ACCIDENT HIT AND RUN PERS INJ      22\n",
       "          ACCIDENT MCI LEVEL 1                2\n",
       "          ACCIDENT PI W/ WATER                1\n",
       "          ACCIDENT PI W/TRACTOR TRAILER       1\n",
       "          ACCIDENT W/ INJURY PIN IN          81\n",
       "          ACCIDENT W/INJURY-GPD REPORT        1\n",
       "          ACCIDENT WITH FIRE                  2\n",
       "          ACCIDENT WITH PERSONAL INJURY    2662\n",
       "          ACCIDENT WITH PROPERTY DAMAGE      25\n",
       "          AIR ALERT 1 LARGE AIRCRAFT          4\n",
       "          AIR ALERT 1 SMALL AIRCRAFT          4\n",
       "          AIR ALERT 2 LARGE AIRCRAFT          2\n",
       "          AIR ALERT 2 SMALL AIRCRAFT          2\n",
       "          AIR ALERT 3 SMALL AIRCRAFT          1\n",
       "          AIRCRAFT EMERGENCY                  2\n",
       "          ALARMS                             66\n",
       "          ALLERGIES-HIVES-STINGS            139\n",
       "          ANIMAL BITES / ATTACKS             15\n",
       "          ANIMAL RELATED CALL               500\n",
       "          ARMED SUBJECT                      58\n",
       "          ASSAULT (NO EMS NEEDED)           304\n",
       "          ASSAULT / RAPE                    211\n",
       "          BACK PAIN (NON-TRAUMATIC)          34\n",
       "          BREATHING PROBLEMS               3564\n",
       "          BURGLARY FROM A MOTOR VEHICLE      93\n",
       "          BURGLARY OF BUSINESS               28\n",
       "          BURGLARY OF RESIDENCE             209\n",
       "          BURNS-EXPLOSIONS                    9\n",
       "                                           ... \n",
       "P         TRAIN / RAIL INCIDENT               1\n",
       "          TRAIN AND RAIL FIRE                 2\n",
       "          TRAUMATIC INJURIES - SPECIFIC      31\n",
       "          UNCONSCIOUS-FAINTING              380\n",
       "          UNKNOWN PROBLEM MAN DOWN          101\n",
       "          VEHICLE FIRE                       15\n",
       "          WATER RESCUE                        2\n",
       "          ZALLOWED TO RUN AT LARGE           24\n",
       "          ZANIMAL ATTACK                      8\n",
       "          ZANIMAL BITE                       13\n",
       "          ZANIMAL FIGHT IN PROGRESS           1\n",
       "          ZASSIST                           337\n",
       "          ZBAT/RACCOON IN RESIDENCE          60\n",
       "          ZBITE FOLLOW UP                     2\n",
       "          ZCHECK WELFARE                     11\n",
       "          ZCONFINED                          23\n",
       "          ZCRUELTY                            4\n",
       "          ZDOG LOCKED IN VEHICLE             83\n",
       "          ZEXPOSURE                           2\n",
       "          ZFOLLOW UP                          2\n",
       "          ZINJURED ANIMAL                   496\n",
       "          ZOTHER ANIMAL IN RESIDENCE         30\n",
       "          ZOWNER TRAP                         2\n",
       "          ZPUBLIC NUISANCE                    2\n",
       "          ZRUNNING AT LARGE                  88\n",
       "          ZSICK ANIMAL                      181\n",
       "          ZSURRENDER ANIMAL                   4\n",
       "          ZTETHERING CALL                     1\n",
       "          ZTRANSPORT FROM VET                 1\n",
       "          ZVICIOUS ANIMAL                   256\n",
       "Length: 545, dtype: int64"
      ]
     },
     "execution_count": 35,
     "metadata": {},
     "output_type": "execute_result"
    }
   ],
   "source": [
    "EMS.groupby(['priority', 'nature']).size()"
   ]
  },
  {
   "cell_type": "code",
   "execution_count": null,
   "metadata": {},
   "outputs": [],
   "source": []
  }
 ],
 "metadata": {
  "kernelspec": {
   "display_name": "Python 3",
   "language": "python",
   "name": "python3"
  },
  "language_info": {
   "codemirror_mode": {
    "name": "ipython",
    "version": 3
   },
   "file_extension": ".py",
   "mimetype": "text/x-python",
   "name": "python",
   "nbconvert_exporter": "python",
   "pygments_lexer": "ipython3",
   "version": "3.6.5"
  }
 },
 "nbformat": 4,
 "nbformat_minor": 2
}
